{
 "cells": [
  {
   "cell_type": "code",
   "execution_count": 1,
   "metadata": {},
   "outputs": [
    {
     "name": "stdout",
     "output_type": "stream",
     "text": [
      "Requirement already satisfied: PyMuPDF in c:\\python311\\lib\\site-packages (1.23.3)Note: you may need to restart the kernel to use updated packages.\n",
      "\n",
      "Requirement already satisfied: PyMuPDFb==1.23.3 in c:\\python311\\lib\\site-packages (from PyMuPDF) (1.23.3)\n"
     ]
    },
    {
     "name": "stderr",
     "output_type": "stream",
     "text": [
      "\n",
      "[notice] A new release of pip is available: 23.2.1 -> 23.3\n",
      "[notice] To update, run: python.exe -m pip install --upgrade pip\n"
     ]
    }
   ],
   "source": [
    "%pip install PyMuPDF"
   ]
  },
  {
   "cell_type": "markdown",
   "metadata": {},
   "source": []
  },
  {
   "cell_type": "code",
   "execution_count": 2,
   "metadata": {},
   "outputs": [
    {
     "name": "stdout",
     "output_type": "stream",
     "text": [
      "Requirement already satisfied: pytesseract in c:\\python311\\lib\\site-packages (0.3.10)\n",
      "Requirement already satisfied: packaging>=21.3 in c:\\users\\test\\appdata\\roaming\\python\\python311\\site-packages (from pytesseract) (23.0)\n",
      "Requirement already satisfied: Pillow>=8.0.0 in c:\\python311\\lib\\site-packages (from pytesseract) (9.4.0)\n",
      "Note: you may need to restart the kernel to use updated packages.\n"
     ]
    },
    {
     "name": "stderr",
     "output_type": "stream",
     "text": [
      "\n",
      "[notice] A new release of pip is available: 23.2.1 -> 23.3\n",
      "[notice] To update, run: python.exe -m pip install --upgrade pip\n"
     ]
    }
   ],
   "source": [
    "%pip install pytesseract\n",
    "# https://codetoprosper.com/tesseract-ocr-for-windows"
   ]
  },
  {
   "cell_type": "code",
   "execution_count": 3,
   "metadata": {},
   "outputs": [
    {
     "name": "stdout",
     "output_type": "stream",
     "text": [
      "Requirement already satisfied: pandas in c:\\python311\\lib\\site-packages (1.5.3)\n",
      "Requirement already satisfied: python-dateutil>=2.8.1 in c:\\python311\\lib\\site-packages (from pandas) (2.8.2)\n",
      "Requirement already satisfied: pytz>=2020.1 in c:\\python311\\lib\\site-packages (from pandas) (2023.3)\n",
      "Requirement already satisfied: numpy>=1.21.0 in c:\\python311\\lib\\site-packages (from pandas) (1.24.2)\n",
      "Requirement already satisfied: six>=1.5 in c:\\python311\\lib\\site-packages (from python-dateutil>=2.8.1->pandas) (1.16.0)\n",
      "Note: you may need to restart the kernel to use updated packages.\n"
     ]
    },
    {
     "name": "stderr",
     "output_type": "stream",
     "text": [
      "\n",
      "[notice] A new release of pip is available: 23.2.1 -> 23.3\n",
      "[notice] To update, run: python.exe -m pip install --upgrade pip\n"
     ]
    }
   ],
   "source": [
    "%pip install pandas"
   ]
  },
  {
   "cell_type": "code",
   "execution_count": 4,
   "metadata": {},
   "outputs": [],
   "source": [
    "import os\n",
    "import fitz\n",
    "import pytesseract\n",
    "import pandas as pd\n",
    "from PIL import Image\n",
    "import io\n",
    "import cv2\n",
    "import numpy as np"
   ]
  },
  {
   "cell_type": "code",
   "execution_count": 5,
   "metadata": {},
   "outputs": [],
   "source": [
    "def extract_images_and_text(pdf_path, output_folder, text_window=100):\n",
    "    # Create an empty list to store image and text information\n",
    "    image_text_info_list = []\n",
    "\n",
    "    # Open the PDF file\n",
    "    pdf_document = fitz.open(pdf_path)\n",
    "\n",
    "    # Set up pytesseract\n",
    "    pytesseract.pytesseract.tesseract_cmd = r'C:/Program Files/Tesseract-OCR/tesseract.exe'  # Change to your Tesseract executable path\n",
    "\n",
    "    for page_number, page in enumerate(pdf_document):\n",
    "        # Get all the images on the current page\n",
    "        images = page.get_images(full=True)\n",
    "\n",
    "        for img_index, img in enumerate(images):\n",
    "            xref = img[0]\n",
    "            base_image = pdf_document.extract_image(xref)\n",
    "            image_data = base_image[\"image\"]\n",
    "\n",
    "            # Determine the file extension based on the image type\n",
    "            if base_image[\"ext\"] == \".jpg\":\n",
    "                image_ext = \"jpg\"\n",
    "            elif base_image[\"ext\"] == \".png\":\n",
    "                image_ext = \"png\"\n",
    "            else:\n",
    "                image_ext = \"png\"\n",
    "\n",
    "            # Create a dictionary with image information\n",
    "            image_info = {\n",
    "                \"File_Name\": os.path.basename(pdf_path),\n",
    "                \"Image_Name\": f\"page_{page_number + 1}_image_{img_index + 1}.{image_ext}\",\n",
    "                \"PageNumber\": page_number + 1\n",
    "            }\n",
    "\n",
    "            # Extract text content before and after the image\n",
    "            text_before = page.get_text(\"text\", clip=(0, 0, img[2], img[3]-text_window))\n",
    "            text_after = page.get_text(\"text\", clip=(0, img[3], img[2], img[3]+text_window))\n",
    "\n",
    "            # Convert image data to a format that Tesseract supports\n",
    "            image_pil = Image.open(io.BytesIO(image_data))\n",
    "            image_data = image_pil.convert(\"RGB\")\n",
    "\n",
    "            # Use OCR to extract text inside the image\n",
    "            image_text = pytesseract.image_to_string(image_data)\n",
    "\n",
    "            image_info[\"Text_Before\"] = text_before.strip()\n",
    "            image_info[\"Text_After\"] = text_after.strip()\n",
    "            image_info[\"Text_Inside_Image\"] = image_text.strip()\n",
    "            \n",
    "\n",
    "            # Create the output folder if it doesn't exist\n",
    "            os.makedirs(output_folder, exist_ok=True)\n",
    "\n",
    "            # Save the image to the output folder\n",
    "            image_filename = os.path.join(output_folder, image_info[\"Image_Name\"])\n",
    "            image_pil.save(image_filename, format=image_ext)\n",
    "            #with open(image_filename, \"wb\") as image_file:\n",
    "            #    image_file.write(image_pil.tobytes())\n",
    "            \n",
    "            # Append the image and text information to the list\n",
    "            image_text_info_list.append(image_info)\n",
    "\n",
    "    pdf_document.close()\n",
    "\n",
    "    # Create a Pandas DataFrame from the image and text information list\n",
    "    df = pd.DataFrame(image_text_info_list)\n",
    "    return df"
   ]
  },
  {
   "cell_type": "code",
   "execution_count": 6,
   "metadata": {},
   "outputs": [
    {
     "name": "stdout",
     "output_type": "stream",
     "text": [
      "['3M_2017.pdf', 'AACTechnologies_2015.pdf', 'AAK_2016.pdf', 'ABBAseaBrownBoveriLtd_2005.pdf', 'AbbottIreland_2017.pdf', 'AbengoaSolar_2012.pdf', 'Abertis_2016.pdf', 'AENA_2009.pdf', 'AkzoNobelNV_2010.pdf', 'AlamosGold_2016.pdf', 'Alken-Maes_2014.pdf', 'AllianzMalaysiaBerhad_2017.pdf', 'Alstom_2016.pdf', 'AltareaCogedim_2016.pdf', 'ALTEN_2017.pdf', 'Altran_2017.pdf', 'AluminumCorporationofChinaLtd._2017.pdf', 'AmbicalProyectos_2014.pdf', 'AmericanExpress_2017.pdf', 'Amorepacific_2011.pdf', 'Amorepacific_2013.pdf', 'AndresCarnedeRes_2016.pdf', 'ASUR_2017.pdf', 'Aviatur_2012.pdf', 'Bakrieland_2014.pdf', 'BarrickGold_2013.pdf', 'BentallKennedy_2014.pdf', 'BMN_2016.pdf', 'Bourbon_2014.pdf', 'BumiArmada_2014.pdf', 'Canon_2017.pdf', 'Carris_2010.pdf', 'CementoPolpaico_2014.pdf', 'Chrometco_2014.pdf', 'CityofChicago_2015.pdf', 'Clicks_2009.pdf', 'Coca-ColaHellenicRussia_2017.pdf', 'COFCO_2014.pdf', 'ConocoPhillipsAustralia_2013.pdf', 'ConstructoraBolivar_2016.pdf', 'COPEL_2009.pdf', 'CSSGruppe_2012.pdf', 'DAEWOOSecurities_2011.pdf', 'DeBeersCanada_2017.pdf', 'Desjardins_2014.pdf', 'EasternBankLimited_2016.pdf', 'Eisai_2017.pdf', 'EngineersAustralia_2016.pdf', 'Eramet_2016.pdf', 'Eskom_2014.pdf', 'FairmountSantrol_2015.pdf', 'Fibria_2016.pdf', 'FrankeGroup_2012.pdf']\n"
     ]
    },
    {
     "name": "stderr",
     "output_type": "stream",
     "text": [
      "C:\\Users\\test\\AppData\\Local\\Temp\\ipykernel_21536\\2042834062.py:21: FutureWarning: The frame.append method is deprecated and will be removed from pandas in a future version. Use pandas.concat instead.\n",
      "  tatal_df = tatal_df.append(df,ignore_index=True)\n",
      "C:\\Users\\test\\AppData\\Local\\Temp\\ipykernel_21536\\2042834062.py:21: FutureWarning: The frame.append method is deprecated and will be removed from pandas in a future version. Use pandas.concat instead.\n",
      "  tatal_df = tatal_df.append(df,ignore_index=True)\n",
      "C:\\Users\\test\\AppData\\Local\\Temp\\ipykernel_21536\\2042834062.py:21: FutureWarning: The frame.append method is deprecated and will be removed from pandas in a future version. Use pandas.concat instead.\n",
      "  tatal_df = tatal_df.append(df,ignore_index=True)\n",
      "C:\\Users\\test\\AppData\\Local\\Temp\\ipykernel_21536\\2042834062.py:21: FutureWarning: The frame.append method is deprecated and will be removed from pandas in a future version. Use pandas.concat instead.\n",
      "  tatal_df = tatal_df.append(df,ignore_index=True)\n",
      "C:\\Users\\test\\AppData\\Local\\Temp\\ipykernel_21536\\2042834062.py:21: FutureWarning: The frame.append method is deprecated and will be removed from pandas in a future version. Use pandas.concat instead.\n",
      "  tatal_df = tatal_df.append(df,ignore_index=True)\n",
      "C:\\Users\\test\\AppData\\Local\\Temp\\ipykernel_21536\\2042834062.py:21: FutureWarning: The frame.append method is deprecated and will be removed from pandas in a future version. Use pandas.concat instead.\n",
      "  tatal_df = tatal_df.append(df,ignore_index=True)\n",
      "C:\\Users\\test\\AppData\\Local\\Temp\\ipykernel_21536\\2042834062.py:21: FutureWarning: The frame.append method is deprecated and will be removed from pandas in a future version. Use pandas.concat instead.\n",
      "  tatal_df = tatal_df.append(df,ignore_index=True)\n",
      "C:\\Users\\test\\AppData\\Local\\Temp\\ipykernel_21536\\2042834062.py:21: FutureWarning: The frame.append method is deprecated and will be removed from pandas in a future version. Use pandas.concat instead.\n",
      "  tatal_df = tatal_df.append(df,ignore_index=True)\n",
      "C:\\Users\\test\\AppData\\Local\\Temp\\ipykernel_21536\\2042834062.py:21: FutureWarning: The frame.append method is deprecated and will be removed from pandas in a future version. Use pandas.concat instead.\n",
      "  tatal_df = tatal_df.append(df,ignore_index=True)\n",
      "C:\\Users\\test\\AppData\\Local\\Temp\\ipykernel_21536\\2042834062.py:21: FutureWarning: The frame.append method is deprecated and will be removed from pandas in a future version. Use pandas.concat instead.\n",
      "  tatal_df = tatal_df.append(df,ignore_index=True)\n",
      "C:\\Users\\test\\AppData\\Local\\Temp\\ipykernel_21536\\2042834062.py:21: FutureWarning: The frame.append method is deprecated and will be removed from pandas in a future version. Use pandas.concat instead.\n",
      "  tatal_df = tatal_df.append(df,ignore_index=True)\n",
      "C:\\Users\\test\\AppData\\Local\\Temp\\ipykernel_21536\\2042834062.py:21: FutureWarning: The frame.append method is deprecated and will be removed from pandas in a future version. Use pandas.concat instead.\n",
      "  tatal_df = tatal_df.append(df,ignore_index=True)\n",
      "C:\\Users\\test\\AppData\\Local\\Temp\\ipykernel_21536\\2042834062.py:21: FutureWarning: The frame.append method is deprecated and will be removed from pandas in a future version. Use pandas.concat instead.\n",
      "  tatal_df = tatal_df.append(df,ignore_index=True)\n",
      "C:\\Users\\test\\AppData\\Local\\Temp\\ipykernel_21536\\2042834062.py:21: FutureWarning: The frame.append method is deprecated and will be removed from pandas in a future version. Use pandas.concat instead.\n",
      "  tatal_df = tatal_df.append(df,ignore_index=True)\n",
      "C:\\Users\\test\\AppData\\Local\\Temp\\ipykernel_21536\\2042834062.py:21: FutureWarning: The frame.append method is deprecated and will be removed from pandas in a future version. Use pandas.concat instead.\n",
      "  tatal_df = tatal_df.append(df,ignore_index=True)\n",
      "C:\\Users\\test\\AppData\\Local\\Temp\\ipykernel_21536\\2042834062.py:21: FutureWarning: The frame.append method is deprecated and will be removed from pandas in a future version. Use pandas.concat instead.\n",
      "  tatal_df = tatal_df.append(df,ignore_index=True)\n",
      "C:\\Users\\test\\AppData\\Local\\Temp\\ipykernel_21536\\2042834062.py:21: FutureWarning: The frame.append method is deprecated and will be removed from pandas in a future version. Use pandas.concat instead.\n",
      "  tatal_df = tatal_df.append(df,ignore_index=True)\n",
      "C:\\Users\\test\\AppData\\Local\\Temp\\ipykernel_21536\\2042834062.py:21: FutureWarning: The frame.append method is deprecated and will be removed from pandas in a future version. Use pandas.concat instead.\n",
      "  tatal_df = tatal_df.append(df,ignore_index=True)\n",
      "C:\\Users\\test\\AppData\\Local\\Temp\\ipykernel_21536\\2042834062.py:21: FutureWarning: The frame.append method is deprecated and will be removed from pandas in a future version. Use pandas.concat instead.\n",
      "  tatal_df = tatal_df.append(df,ignore_index=True)\n",
      "C:\\Users\\test\\AppData\\Local\\Temp\\ipykernel_21536\\2042834062.py:21: FutureWarning: The frame.append method is deprecated and will be removed from pandas in a future version. Use pandas.concat instead.\n",
      "  tatal_df = tatal_df.append(df,ignore_index=True)\n",
      "C:\\Users\\test\\AppData\\Local\\Temp\\ipykernel_21536\\2042834062.py:21: FutureWarning: The frame.append method is deprecated and will be removed from pandas in a future version. Use pandas.concat instead.\n",
      "  tatal_df = tatal_df.append(df,ignore_index=True)\n",
      "C:\\Users\\test\\AppData\\Local\\Temp\\ipykernel_21536\\2042834062.py:21: FutureWarning: The frame.append method is deprecated and will be removed from pandas in a future version. Use pandas.concat instead.\n",
      "  tatal_df = tatal_df.append(df,ignore_index=True)\n",
      "C:\\Users\\test\\AppData\\Local\\Temp\\ipykernel_21536\\2042834062.py:21: FutureWarning: The frame.append method is deprecated and will be removed from pandas in a future version. Use pandas.concat instead.\n",
      "  tatal_df = tatal_df.append(df,ignore_index=True)\n",
      "C:\\Users\\test\\AppData\\Local\\Temp\\ipykernel_21536\\2042834062.py:21: FutureWarning: The frame.append method is deprecated and will be removed from pandas in a future version. Use pandas.concat instead.\n",
      "  tatal_df = tatal_df.append(df,ignore_index=True)\n",
      "C:\\Users\\test\\AppData\\Local\\Temp\\ipykernel_21536\\2042834062.py:21: FutureWarning: The frame.append method is deprecated and will be removed from pandas in a future version. Use pandas.concat instead.\n",
      "  tatal_df = tatal_df.append(df,ignore_index=True)\n",
      "C:\\Users\\test\\AppData\\Local\\Temp\\ipykernel_21536\\2042834062.py:21: FutureWarning: The frame.append method is deprecated and will be removed from pandas in a future version. Use pandas.concat instead.\n",
      "  tatal_df = tatal_df.append(df,ignore_index=True)\n",
      "C:\\Users\\test\\AppData\\Local\\Temp\\ipykernel_21536\\2042834062.py:21: FutureWarning: The frame.append method is deprecated and will be removed from pandas in a future version. Use pandas.concat instead.\n",
      "  tatal_df = tatal_df.append(df,ignore_index=True)\n",
      "C:\\Users\\test\\AppData\\Local\\Temp\\ipykernel_21536\\2042834062.py:21: FutureWarning: The frame.append method is deprecated and will be removed from pandas in a future version. Use pandas.concat instead.\n",
      "  tatal_df = tatal_df.append(df,ignore_index=True)\n",
      "C:\\Users\\test\\AppData\\Local\\Temp\\ipykernel_21536\\2042834062.py:21: FutureWarning: The frame.append method is deprecated and will be removed from pandas in a future version. Use pandas.concat instead.\n",
      "  tatal_df = tatal_df.append(df,ignore_index=True)\n",
      "C:\\Users\\test\\AppData\\Local\\Temp\\ipykernel_21536\\2042834062.py:21: FutureWarning: The frame.append method is deprecated and will be removed from pandas in a future version. Use pandas.concat instead.\n",
      "  tatal_df = tatal_df.append(df,ignore_index=True)\n",
      "C:\\Users\\test\\AppData\\Local\\Temp\\ipykernel_21536\\2042834062.py:21: FutureWarning: The frame.append method is deprecated and will be removed from pandas in a future version. Use pandas.concat instead.\n",
      "  tatal_df = tatal_df.append(df,ignore_index=True)\n",
      "C:\\Users\\test\\AppData\\Local\\Temp\\ipykernel_21536\\2042834062.py:21: FutureWarning: The frame.append method is deprecated and will be removed from pandas in a future version. Use pandas.concat instead.\n",
      "  tatal_df = tatal_df.append(df,ignore_index=True)\n",
      "C:\\Users\\test\\AppData\\Local\\Temp\\ipykernel_21536\\2042834062.py:21: FutureWarning: The frame.append method is deprecated and will be removed from pandas in a future version. Use pandas.concat instead.\n",
      "  tatal_df = tatal_df.append(df,ignore_index=True)\n",
      "C:\\Users\\test\\AppData\\Local\\Temp\\ipykernel_21536\\2042834062.py:21: FutureWarning: The frame.append method is deprecated and will be removed from pandas in a future version. Use pandas.concat instead.\n",
      "  tatal_df = tatal_df.append(df,ignore_index=True)\n",
      "C:\\Users\\test\\AppData\\Local\\Temp\\ipykernel_21536\\2042834062.py:21: FutureWarning: The frame.append method is deprecated and will be removed from pandas in a future version. Use pandas.concat instead.\n",
      "  tatal_df = tatal_df.append(df,ignore_index=True)\n",
      "C:\\Users\\test\\AppData\\Local\\Temp\\ipykernel_21536\\2042834062.py:21: FutureWarning: The frame.append method is deprecated and will be removed from pandas in a future version. Use pandas.concat instead.\n",
      "  tatal_df = tatal_df.append(df,ignore_index=True)\n",
      "C:\\Users\\test\\AppData\\Local\\Temp\\ipykernel_21536\\2042834062.py:21: FutureWarning: The frame.append method is deprecated and will be removed from pandas in a future version. Use pandas.concat instead.\n",
      "  tatal_df = tatal_df.append(df,ignore_index=True)\n"
     ]
    }
   ],
   "source": [
    "pdf_files = os.listdir(\"C:/Thesis/CSR_Reports/\")\n",
    "print(pdf_files)\n",
    "# Reading all the files and extract images \n",
    "count = 0\n",
    "\n",
    "damage_list = []\n",
    "tatal_df=[]\n",
    "for pdf in pdf_files:\n",
    "    count = count+1\n",
    "    #pdffile = \"CSR Reports/\"+pdf\n",
    "    \n",
    "    pdf_file = \"C:/Thesis/CSR_Reports/\" + pdf  # PDF file path\n",
    "    output_dir = \"C:/Thesis/Images/\" + pdf[:-4]  #\n",
    "    #output_dir = \"1time_2011\"  # Replace with the output folder path\n",
    "    \n",
    "    try:\n",
    "        df = extract_images_and_text(pdf_file, output_dir)\n",
    "        if count == 1:\n",
    "            tatal_df = df\n",
    "        else:\n",
    "            tatal_df = tatal_df.append(df,ignore_index=True) \n",
    "      \n",
    "    except:\n",
    "        damage_list.append(pdf)"
   ]
  },
  {
   "cell_type": "code",
   "execution_count": 7,
   "metadata": {},
   "outputs": [
    {
     "name": "stdout",
     "output_type": "stream",
     "text": [
      "                 File_Name            Image_Name  PageNumber  \\\n",
      "0              3M_2017.pdf    page_2_image_1.png           2   \n",
      "1              3M_2017.pdf    page_2_image_2.png           2   \n",
      "2              3M_2017.pdf    page_2_image_3.png           2   \n",
      "3              3M_2017.pdf    page_2_image_4.png           2   \n",
      "4              3M_2017.pdf    page_2_image_5.png           2   \n",
      "...                    ...                   ...         ...   \n",
      "7668  FrankeGroup_2012.pdf  page_26_image_11.png          26   \n",
      "7669  FrankeGroup_2012.pdf  page_26_image_12.png          26   \n",
      "7670  FrankeGroup_2012.pdf  page_26_image_13.png          26   \n",
      "7671  FrankeGroup_2012.pdf  page_26_image_14.png          26   \n",
      "7672  FrankeGroup_2012.pdf   page_28_image_1.png          28   \n",
      "\n",
      "                                            Text_Before  \\\n",
      "0     Improving every life\\nA desirable location for...   \n",
      "1                                                         \n",
      "2     Improving every life\\nIt takes a community\\nSe...   \n",
      "3                                                         \n",
      "4                                                         \n",
      "...                                                 ...   \n",
      "7668                                                      \n",
      "7669                                                      \n",
      "7670                                                      \n",
      "7671                                                      \n",
      "7672  In all that we do or decide not to do, we must...   \n",
      "\n",
      "                                             Text_After  \\\n",
      "0     It takes a community\\n3M Legal Affairs pro bon...   \n",
      "1                                                         \n",
      "2                                                         \n",
      "3                                                         \n",
      "4                                                         \n",
      "...                                                 ...   \n",
      "7668                                                      \n",
      "7669                                                      \n",
      "7670                                                      \n",
      "7671                                                      \n",
      "7672                                                      \n",
      "\n",
      "                                      Text_Inside_Image  \n",
      "0                                                        \n",
      "1                                                        \n",
      "2                                                        \n",
      "3     oe “” This isn’t the end.\\nr It’s just the beg...  \n",
      "4                                                        \n",
      "...                                                 ...  \n",
      "7668                                                     \n",
      "7669                                                     \n",
      "7670                                                     \n",
      "7671                                                     \n",
      "7672                                                  a  \n",
      "\n",
      "[7673 rows x 6 columns]\n"
     ]
    }
   ],
   "source": [
    "print(tatal_df)"
   ]
  },
  {
   "cell_type": "code",
   "execution_count": null,
   "metadata": {},
   "outputs": [],
   "source": [
    "#df = extract_images_and_text(pdf_file, output_dir)\n",
    "\n",
    "# Print the DataFrame (optional)\n"
   ]
  },
  {
   "cell_type": "code",
   "execution_count": 8,
   "metadata": {},
   "outputs": [
    {
     "data": {
      "text/plain": [
       "Index(['File_Name', 'Image_Name', 'PageNumber', 'Text_Before', 'Text_After',\n",
       "       'Text_Inside_Image'],\n",
       "      dtype='object')"
      ]
     },
     "execution_count": 8,
     "metadata": {},
     "output_type": "execute_result"
    }
   ],
   "source": [
    "tatal_df.columns"
   ]
  },
  {
   "cell_type": "code",
   "execution_count": 9,
   "metadata": {},
   "outputs": [
    {
     "data": {
      "text/html": [
       "<div>\n",
       "<style scoped>\n",
       "    .dataframe tbody tr th:only-of-type {\n",
       "        vertical-align: middle;\n",
       "    }\n",
       "\n",
       "    .dataframe tbody tr th {\n",
       "        vertical-align: top;\n",
       "    }\n",
       "\n",
       "    .dataframe thead th {\n",
       "        text-align: right;\n",
       "    }\n",
       "</style>\n",
       "<table border=\"1\" class=\"dataframe\">\n",
       "  <thead>\n",
       "    <tr style=\"text-align: right;\">\n",
       "      <th></th>\n",
       "      <th>File_Name</th>\n",
       "      <th>Image_Name</th>\n",
       "      <th>PageNumber</th>\n",
       "      <th>Text_Before</th>\n",
       "      <th>Text_After</th>\n",
       "      <th>Text_Inside_Image</th>\n",
       "    </tr>\n",
       "  </thead>\n",
       "  <tbody>\n",
       "    <tr>\n",
       "      <th>0</th>\n",
       "      <td>3M_2017.pdf</td>\n",
       "      <td>page_2_image_1.png</td>\n",
       "      <td>2</td>\n",
       "      <td>Improving every life\\nA desirable location for...</td>\n",
       "      <td>It takes a community\\n3M Legal Affairs pro bon...</td>\n",
       "      <td></td>\n",
       "    </tr>\n",
       "    <tr>\n",
       "      <th>1</th>\n",
       "      <td>3M_2017.pdf</td>\n",
       "      <td>page_2_image_2.png</td>\n",
       "      <td>2</td>\n",
       "      <td></td>\n",
       "      <td></td>\n",
       "      <td></td>\n",
       "    </tr>\n",
       "    <tr>\n",
       "      <th>2</th>\n",
       "      <td>3M_2017.pdf</td>\n",
       "      <td>page_2_image_3.png</td>\n",
       "      <td>2</td>\n",
       "      <td>Improving every life\\nIt takes a community\\nSe...</td>\n",
       "      <td></td>\n",
       "      <td></td>\n",
       "    </tr>\n",
       "    <tr>\n",
       "      <th>3</th>\n",
       "      <td>3M_2017.pdf</td>\n",
       "      <td>page_2_image_4.png</td>\n",
       "      <td>2</td>\n",
       "      <td></td>\n",
       "      <td></td>\n",
       "      <td>oe “” This isn’t the end.\\nr It’s just the beg...</td>\n",
       "    </tr>\n",
       "    <tr>\n",
       "      <th>4</th>\n",
       "      <td>3M_2017.pdf</td>\n",
       "      <td>page_2_image_5.png</td>\n",
       "      <td>2</td>\n",
       "      <td></td>\n",
       "      <td></td>\n",
       "      <td></td>\n",
       "    </tr>\n",
       "  </tbody>\n",
       "</table>\n",
       "</div>"
      ],
      "text/plain": [
       "     File_Name          Image_Name  PageNumber  \\\n",
       "0  3M_2017.pdf  page_2_image_1.png           2   \n",
       "1  3M_2017.pdf  page_2_image_2.png           2   \n",
       "2  3M_2017.pdf  page_2_image_3.png           2   \n",
       "3  3M_2017.pdf  page_2_image_4.png           2   \n",
       "4  3M_2017.pdf  page_2_image_5.png           2   \n",
       "\n",
       "                                         Text_Before  \\\n",
       "0  Improving every life\\nA desirable location for...   \n",
       "1                                                      \n",
       "2  Improving every life\\nIt takes a community\\nSe...   \n",
       "3                                                      \n",
       "4                                                      \n",
       "\n",
       "                                          Text_After  \\\n",
       "0  It takes a community\\n3M Legal Affairs pro bon...   \n",
       "1                                                      \n",
       "2                                                      \n",
       "3                                                      \n",
       "4                                                      \n",
       "\n",
       "                                   Text_Inside_Image  \n",
       "0                                                     \n",
       "1                                                     \n",
       "2                                                     \n",
       "3  oe “” This isn’t the end.\\nr It’s just the beg...  \n",
       "4                                                     "
      ]
     },
     "execution_count": 9,
     "metadata": {},
     "output_type": "execute_result"
    }
   ],
   "source": [
    "tatal_df.head()"
   ]
  },
  {
   "cell_type": "code",
   "execution_count": null,
   "metadata": {},
   "outputs": [],
   "source": [
    "tatal_df.to_csv('SaveFiles/ExtractedData.csv', index=False)"
   ]
  },
  {
   "cell_type": "code",
   "execution_count": null,
   "metadata": {},
   "outputs": [],
   "source": []
  }
 ],
 "metadata": {
  "kernelspec": {
   "display_name": "Python 3 (ipykernel)",
   "language": "python",
   "name": "python3"
  },
  "language_info": {
   "codemirror_mode": {
    "name": "ipython",
    "version": 3
   },
   "file_extension": ".py",
   "mimetype": "text/x-python",
   "name": "python",
   "nbconvert_exporter": "python",
   "pygments_lexer": "ipython3",
   "version": "3.11.0"
  }
 },
 "nbformat": 4,
 "nbformat_minor": 1
}
