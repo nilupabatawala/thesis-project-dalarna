{
 "cells": [
  {
   "cell_type": "code",
   "execution_count": 1,
   "id": "9d2682d1",
   "metadata": {},
   "outputs": [
    {
     "name": "stdout",
     "output_type": "stream",
     "text": [
      "Requirement already satisfied: opencv-python in c:\\python311\\lib\\site-packages (4.8.0.76)\n",
      "Requirement already satisfied: numpy>=1.21.2 in c:\\python311\\lib\\site-packages (from opencv-python) (1.24.2)\n",
      "Note: you may need to restart the kernel to use updated packages.\n"
     ]
    },
    {
     "name": "stderr",
     "output_type": "stream",
     "text": [
      "\n",
      "[notice] A new release of pip is available: 23.2.1 -> 23.3\n",
      "[notice] To update, run: python.exe -m pip install --upgrade pip\n"
     ]
    }
   ],
   "source": [
    "%pip install opencv-python"
   ]
  },
  {
   "cell_type": "code",
   "execution_count": 2,
   "id": "af16c4b6",
   "metadata": {},
   "outputs": [],
   "source": [
    "import cv2\n",
    "import os\n",
    "import pandas as pd\n",
    "import numpy as np"
   ]
  },
  {
   "cell_type": "code",
   "execution_count": 3,
   "id": "3eeed98b",
   "metadata": {},
   "outputs": [],
   "source": [
    "# Define a function to extract color codes from an image\n",
    "def extract_colors(image_path):\n",
    "    image = cv2.imread(image_path)\n",
    "    \n",
    "    #Convert the image to the HSV color space\n",
    "    hsv = cv2.cvtColor(image, cv2.COLOR_BGR2HSV)\n",
    "    \n",
    "    # Define the range of green color\n",
    "    lower_range = np.array([36,25,25])\n",
    "    upper_range = np.array([86, 255,255])\n",
    "    \n",
    "    # Create a mask for the green colors in images\n",
    "    mask = cv2.inRange(hsv, lower_range, upper_range)\n",
    "    \n",
    "    # Calculate the percentage of pixels in the mask\n",
    "    num_pixels = mask.shape[0] * mask.shape[1]\n",
    "    num_nonzero_pixels = cv2.countNonZero(mask)\n",
    "    percentage = num_nonzero_pixels*100 / num_pixels\n",
    "    return percentage"
   ]
  },
  {
   "cell_type": "code",
   "execution_count": 4,
   "id": "55000f5e",
   "metadata": {},
   "outputs": [],
   "source": [
    "# Define a function to detect live obj in an image\n",
    "def detect_human(img_path):\n",
    "    img = cv2.imread(img_path)\n",
    "    # Load the human detection model\n",
    "    human_cascade = cv2.CascadeClassifier(cv2.data.haarcascades +'haarcascade_frontalface_default.xml')\n",
    "    # Detect humans in the image\n",
    "    humans = human_cascade.detectMultiScale(img)\n",
    "    # Return True if humans are present, False otherwise\n",
    "    if len(humans) > 0:\n",
    "        return True\n",
    "    else:\n",
    "        return False"
   ]
  },
  {
   "cell_type": "code",
   "execution_count": 5,
   "id": "8a561afd",
   "metadata": {},
   "outputs": [
    {
     "data": {
      "text/plain": [
       "['3M_2017',\n",
       " 'A.G.BARR_2013',\n",
       " 'AACTechnologies_2015',\n",
       " 'AAK_2016',\n",
       " 'AaltoUniversity_2015',\n",
       " 'ABBAseaBrownBoveriLtd_2005',\n",
       " 'AbbottIreland_2017',\n",
       " 'AbengoaSolar_2012',\n",
       " 'Abertis_2016',\n",
       " 'AdvantechCo.,Ltd._2013',\n",
       " 'AENA_2009',\n",
       " 'Aerosun_2017',\n",
       " 'AkzoNobelNV_2010',\n",
       " 'AlamosGold_2016',\n",
       " 'Alken-Maes_2014',\n",
       " 'AllianzMalaysiaBerhad_2017',\n",
       " 'Alstom_2016',\n",
       " 'AltareaCogedim_2016',\n",
       " 'ALTEN_2017',\n",
       " 'Altran_2017',\n",
       " 'AluminumCorporationofChinaLtd._2017',\n",
       " 'AmbicalProyectos_2014',\n",
       " 'AmericanExpress_2017',\n",
       " 'Amorepacific_2011',\n",
       " 'Amorepacific_2013',\n",
       " 'AndresCarnedeRes_2016',\n",
       " 'ASUR_2017',\n",
       " 'Aviatur_2012',\n",
       " 'Bakrieland_2014',\n",
       " 'BarrickGold_2013',\n",
       " 'BentallKennedy_2014',\n",
       " 'BMN_2016',\n",
       " 'Bourbon_2014',\n",
       " 'BumiArmada_2014',\n",
       " 'Canon_2017',\n",
       " 'Carris_2010',\n",
       " 'CementoPolpaico_2014',\n",
       " 'Chrometco_2014',\n",
       " 'CityofChicago_2015',\n",
       " 'Clicks_2009',\n",
       " 'Coca-ColaHellenicRussia_2017',\n",
       " 'COFCO_2014',\n",
       " 'ConstructoraBolivar_2016',\n",
       " 'COPEL_2009',\n",
       " 'CSSGruppe_2012',\n",
       " 'DAEWOOSecurities_2011',\n",
       " 'DeBeersCanada_2017',\n",
       " 'Desjardins_2014',\n",
       " 'EasternBankLimited_2016',\n",
       " 'Eisai_2017',\n",
       " 'EngineersAustralia_2016',\n",
       " 'Eramet_2016',\n",
       " 'Eskom_2014',\n",
       " 'FairmountSantrol_2015',\n",
       " 'Fibria_2016',\n",
       " 'FrankeGroup_2012']"
      ]
     },
     "execution_count": 5,
     "metadata": {},
     "output_type": "execute_result"
    }
   ],
   "source": [
    "# Define a list to store the data\n",
    "\n",
    "os.getcwd()\n",
    "os.listdir(\"C:\\Thesis\\Images\")\n"
   ]
  },
  {
   "cell_type": "code",
   "execution_count": 6,
   "id": "37037a1c",
   "metadata": {},
   "outputs": [
    {
     "name": "stdout",
     "output_type": "stream",
     "text": [
      "['3M_2017', 'A.G.BARR_2013', 'AACTechnologies_2015', 'AAK_2016', 'AaltoUniversity_2015', 'ABBAseaBrownBoveriLtd_2005', 'AbbottIreland_2017', 'AbengoaSolar_2012', 'Abertis_2016', 'AdvantechCo.,Ltd._2013', 'AENA_2009', 'Aerosun_2017', 'AkzoNobelNV_2010', 'AlamosGold_2016', 'Alken-Maes_2014', 'AllianzMalaysiaBerhad_2017', 'Alstom_2016', 'AltareaCogedim_2016', 'ALTEN_2017', 'Altran_2017', 'AluminumCorporationofChinaLtd._2017', 'AmbicalProyectos_2014', 'AmericanExpress_2017', 'Amorepacific_2011', 'Amorepacific_2013', 'AndresCarnedeRes_2016', 'ASUR_2017', 'Aviatur_2012', 'Bakrieland_2014', 'BarrickGold_2013', 'BentallKennedy_2014', 'BMN_2016', 'Bourbon_2014', 'BumiArmada_2014', 'Canon_2017', 'Carris_2010', 'CementoPolpaico_2014', 'Chrometco_2014', 'CityofChicago_2015', 'Clicks_2009', 'Coca-ColaHellenicRussia_2017', 'COFCO_2014', 'ConstructoraBolivar_2016', 'COPEL_2009', 'CSSGruppe_2012', 'DAEWOOSecurities_2011', 'DeBeersCanada_2017', 'Desjardins_2014', 'EasternBankLimited_2016', 'Eisai_2017', 'EngineersAustralia_2016', 'Eramet_2016', 'Eskom_2014', 'FairmountSantrol_2015', 'Fibria_2016', 'FrankeGroup_2012']\n"
     ]
    }
   ],
   "source": [
    "pdf_directory = os.listdir(\"C:\\Thesis\\Images\")\n",
    "\n",
    "print(pdf_directory)"
   ]
  },
  {
   "cell_type": "code",
   "execution_count": 7,
   "id": "d4c9285b",
   "metadata": {},
   "outputs": [
    {
     "name": "stdout",
     "output_type": "stream",
     "text": [
      "Currupted FileConocoPhillipsAustralia_2013\n"
     ]
    }
   ],
   "source": [
    "image_data = []\n",
    "\n",
    "for foldername in pdf_directory:\n",
    "    #print(foldername)\n",
    "    image_directory = os.listdir(\"C:\\\\Thesis\\\\Images\\\\\" + foldername)\n",
    "    \n",
    "    for filename_withEXT in image_directory:\n",
    "        #print(foldername + filename_withEXT)\n",
    "        img_path = os.path.join(\"C:\\\\Thesis\\\\Images\",foldername, filename_withEXT)\n",
    "      \n",
    "        try:\n",
    "            green_perc = extract_colors(img_path)\n",
    "            live_obj = detect_human(img_path)\n",
    "            #image_data.append([foldername+\".pdf\", filename_withEXT, green_perc, live_obj])\n",
    "            #print(img_path)\n",
    "            \n",
    "            image_data.append({\n",
    "                'File_Name': foldername + \".pdf\",\n",
    "                'Image_Name': filename_withEXT,\n",
    "                'green_perc': green_perc,\n",
    "                'live_obj': live_obj\n",
    "            })\n",
    "        \n",
    "        except:\n",
    "            print(\"Currupted File\"+filename_withEXT)\n",
    "       \n",
    "\n",
    "\n"
   ]
  },
  {
   "cell_type": "code",
   "execution_count": 8,
   "id": "0e55daa2",
   "metadata": {},
   "outputs": [
    {
     "data": {
      "text/html": [
       "<div>\n",
       "<style scoped>\n",
       "    .dataframe tbody tr th:only-of-type {\n",
       "        vertical-align: middle;\n",
       "    }\n",
       "\n",
       "    .dataframe tbody tr th {\n",
       "        vertical-align: top;\n",
       "    }\n",
       "\n",
       "    .dataframe thead th {\n",
       "        text-align: right;\n",
       "    }\n",
       "</style>\n",
       "<table border=\"1\" class=\"dataframe\">\n",
       "  <thead>\n",
       "    <tr style=\"text-align: right;\">\n",
       "      <th></th>\n",
       "      <th>File_Name</th>\n",
       "      <th>Image_Name</th>\n",
       "      <th>green_perc</th>\n",
       "      <th>live_obj</th>\n",
       "    </tr>\n",
       "  </thead>\n",
       "  <tbody>\n",
       "    <tr>\n",
       "      <th>0</th>\n",
       "      <td>3M_2017.pdf</td>\n",
       "      <td>page_104_image_1.png</td>\n",
       "      <td>0.173863</td>\n",
       "      <td>False</td>\n",
       "    </tr>\n",
       "    <tr>\n",
       "      <th>1</th>\n",
       "      <td>3M_2017.pdf</td>\n",
       "      <td>page_104_image_2.png</td>\n",
       "      <td>0.280112</td>\n",
       "      <td>False</td>\n",
       "    </tr>\n",
       "    <tr>\n",
       "      <th>2</th>\n",
       "      <td>3M_2017.pdf</td>\n",
       "      <td>page_105_image_1.png</td>\n",
       "      <td>0.000000</td>\n",
       "      <td>False</td>\n",
       "    </tr>\n",
       "    <tr>\n",
       "      <th>3</th>\n",
       "      <td>3M_2017.pdf</td>\n",
       "      <td>page_105_image_10.png</td>\n",
       "      <td>0.000000</td>\n",
       "      <td>False</td>\n",
       "    </tr>\n",
       "    <tr>\n",
       "      <th>4</th>\n",
       "      <td>3M_2017.pdf</td>\n",
       "      <td>page_105_image_11.png</td>\n",
       "      <td>1.744422</td>\n",
       "      <td>False</td>\n",
       "    </tr>\n",
       "  </tbody>\n",
       "</table>\n",
       "</div>"
      ],
      "text/plain": [
       "     File_Name             Image_Name  green_perc  live_obj\n",
       "0  3M_2017.pdf   page_104_image_1.png    0.173863     False\n",
       "1  3M_2017.pdf   page_104_image_2.png    0.280112     False\n",
       "2  3M_2017.pdf   page_105_image_1.png    0.000000     False\n",
       "3  3M_2017.pdf  page_105_image_10.png    0.000000     False\n",
       "4  3M_2017.pdf  page_105_image_11.png    1.744422     False"
      ]
     },
     "execution_count": 8,
     "metadata": {},
     "output_type": "execute_result"
    }
   ],
   "source": [
    "df_image_date = pd.DataFrame(image_data)\n",
    "df_image_date.head()"
   ]
  },
  {
   "cell_type": "code",
   "execution_count": 9,
   "id": "8aa27f6c",
   "metadata": {},
   "outputs": [
    {
     "data": {
      "text/html": [
       "<div>\n",
       "<style scoped>\n",
       "    .dataframe tbody tr th:only-of-type {\n",
       "        vertical-align: middle;\n",
       "    }\n",
       "\n",
       "    .dataframe tbody tr th {\n",
       "        vertical-align: top;\n",
       "    }\n",
       "\n",
       "    .dataframe thead th {\n",
       "        text-align: right;\n",
       "    }\n",
       "</style>\n",
       "<table border=\"1\" class=\"dataframe\">\n",
       "  <thead>\n",
       "    <tr style=\"text-align: right;\">\n",
       "      <th></th>\n",
       "      <th>File_Name</th>\n",
       "      <th>Image_Name</th>\n",
       "      <th>PageNumber</th>\n",
       "      <th>Text_Before</th>\n",
       "      <th>Text_After</th>\n",
       "      <th>Text_Inside_Image</th>\n",
       "    </tr>\n",
       "  </thead>\n",
       "  <tbody>\n",
       "    <tr>\n",
       "      <th>0</th>\n",
       "      <td>3M_2017.pdf</td>\n",
       "      <td>page_2_image_1.png</td>\n",
       "      <td>2</td>\n",
       "      <td>Improving every life\\nA desirable location for...</td>\n",
       "      <td>It takes a community\\n3M Legal Affairs pro bon...</td>\n",
       "      <td>NaN</td>\n",
       "    </tr>\n",
       "    <tr>\n",
       "      <th>1</th>\n",
       "      <td>3M_2017.pdf</td>\n",
       "      <td>page_2_image_2.png</td>\n",
       "      <td>2</td>\n",
       "      <td>NaN</td>\n",
       "      <td>NaN</td>\n",
       "      <td>NaN</td>\n",
       "    </tr>\n",
       "    <tr>\n",
       "      <th>2</th>\n",
       "      <td>3M_2017.pdf</td>\n",
       "      <td>page_2_image_3.png</td>\n",
       "      <td>2</td>\n",
       "      <td>Improving every life\\nIt takes a community\\nSe...</td>\n",
       "      <td>NaN</td>\n",
       "      <td>NaN</td>\n",
       "    </tr>\n",
       "    <tr>\n",
       "      <th>3</th>\n",
       "      <td>3M_2017.pdf</td>\n",
       "      <td>page_2_image_4.png</td>\n",
       "      <td>2</td>\n",
       "      <td>NaN</td>\n",
       "      <td>NaN</td>\n",
       "      <td>oe “” This isn’t the end.\\nr It’s just the beg...</td>\n",
       "    </tr>\n",
       "    <tr>\n",
       "      <th>4</th>\n",
       "      <td>3M_2017.pdf</td>\n",
       "      <td>page_2_image_5.png</td>\n",
       "      <td>2</td>\n",
       "      <td>NaN</td>\n",
       "      <td>NaN</td>\n",
       "      <td>NaN</td>\n",
       "    </tr>\n",
       "  </tbody>\n",
       "</table>\n",
       "</div>"
      ],
      "text/plain": [
       "     File_Name          Image_Name  PageNumber  \\\n",
       "0  3M_2017.pdf  page_2_image_1.png           2   \n",
       "1  3M_2017.pdf  page_2_image_2.png           2   \n",
       "2  3M_2017.pdf  page_2_image_3.png           2   \n",
       "3  3M_2017.pdf  page_2_image_4.png           2   \n",
       "4  3M_2017.pdf  page_2_image_5.png           2   \n",
       "\n",
       "                                         Text_Before  \\\n",
       "0  Improving every life\\nA desirable location for...   \n",
       "1                                                NaN   \n",
       "2  Improving every life\\nIt takes a community\\nSe...   \n",
       "3                                                NaN   \n",
       "4                                                NaN   \n",
       "\n",
       "                                          Text_After  \\\n",
       "0  It takes a community\\n3M Legal Affairs pro bon...   \n",
       "1                                                NaN   \n",
       "2                                                NaN   \n",
       "3                                                NaN   \n",
       "4                                                NaN   \n",
       "\n",
       "                                   Text_Inside_Image  \n",
       "0                                                NaN  \n",
       "1                                                NaN  \n",
       "2                                                NaN  \n",
       "3  oe “” This isn’t the end.\\nr It’s just the beg...  \n",
       "4                                                NaN  "
      ]
     },
     "execution_count": 9,
     "metadata": {},
     "output_type": "execute_result"
    }
   ],
   "source": [
    "# Load the extracted data file\n",
    "df = pd.read_csv(\"Savefiles/ExtractedData.csv\")\n",
    "df.head()"
   ]
  },
  {
   "cell_type": "code",
   "execution_count": 10,
   "id": "9b06fc1a",
   "metadata": {},
   "outputs": [],
   "source": [
    "# Merge df and df_image_date based on 'File Name' and 'Image Name'\n",
    "df_new = df.merge(df_image_date, on=['File_Name', 'Image_Name'], how='left')"
   ]
  },
  {
   "cell_type": "code",
   "execution_count": 11,
   "id": "b2981876",
   "metadata": {},
   "outputs": [
    {
     "name": "stdout",
     "output_type": "stream",
     "text": [
      "                 File_Name            Image_Name  PageNumber  \\\n",
      "0              3M_2017.pdf    page_2_image_1.png           2   \n",
      "1              3M_2017.pdf    page_2_image_2.png           2   \n",
      "2              3M_2017.pdf    page_2_image_3.png           2   \n",
      "3              3M_2017.pdf    page_2_image_4.png           2   \n",
      "4              3M_2017.pdf    page_2_image_5.png           2   \n",
      "...                    ...                   ...         ...   \n",
      "7668  FrankeGroup_2012.pdf  page_26_image_11.png          26   \n",
      "7669  FrankeGroup_2012.pdf  page_26_image_12.png          26   \n",
      "7670  FrankeGroup_2012.pdf  page_26_image_13.png          26   \n",
      "7671  FrankeGroup_2012.pdf  page_26_image_14.png          26   \n",
      "7672  FrankeGroup_2012.pdf   page_28_image_1.png          28   \n",
      "\n",
      "                                            Text_Before  \\\n",
      "0     Improving every life\\nA desirable location for...   \n",
      "1                                                   NaN   \n",
      "2     Improving every life\\nIt takes a community\\nSe...   \n",
      "3                                                   NaN   \n",
      "4                                                   NaN   \n",
      "...                                                 ...   \n",
      "7668                                                NaN   \n",
      "7669                                                NaN   \n",
      "7670                                                NaN   \n",
      "7671                                                NaN   \n",
      "7672  In all that we do or decide not to do, we must...   \n",
      "\n",
      "                                             Text_After  \\\n",
      "0     It takes a community\\n3M Legal Affairs pro bon...   \n",
      "1                                                   NaN   \n",
      "2                                                   NaN   \n",
      "3                                                   NaN   \n",
      "4                                                   NaN   \n",
      "...                                                 ...   \n",
      "7668                                                NaN   \n",
      "7669                                                NaN   \n",
      "7670                                                NaN   \n",
      "7671                                                NaN   \n",
      "7672                                                NaN   \n",
      "\n",
      "                                      Text_Inside_Image  green_perc  live_obj  \n",
      "0                                                   NaN   48.451031     False  \n",
      "1                                                   NaN    3.916912     False  \n",
      "2                                                   NaN    0.497178      True  \n",
      "3     oe “” This isn’t the end.\\nr It’s just the beg...    1.870898     False  \n",
      "4                                                   NaN    1.762538     False  \n",
      "...                                                 ...         ...       ...  \n",
      "7668                                                NaN    0.000000     False  \n",
      "7669                                                NaN    0.000000     False  \n",
      "7670                                                NaN    0.000000     False  \n",
      "7671                                                NaN    0.000000     False  \n",
      "7672                                                  a   99.901051     False  \n",
      "\n",
      "[7673 rows x 8 columns]\n"
     ]
    }
   ],
   "source": [
    "print(df_new)"
   ]
  },
  {
   "cell_type": "code",
   "execution_count": 12,
   "id": "e13e04ec",
   "metadata": {},
   "outputs": [],
   "source": [
    "df_new.to_csv('SaveFiles/ExtractedData_withGreenAndLiveObj.csv', index=False)"
   ]
  }
 ],
 "metadata": {
  "kernelspec": {
   "display_name": "Python 3 (ipykernel)",
   "language": "python",
   "name": "python3"
  },
  "language_info": {
   "codemirror_mode": {
    "name": "ipython",
    "version": 3
   },
   "file_extension": ".py",
   "mimetype": "text/x-python",
   "name": "python",
   "nbconvert_exporter": "python",
   "pygments_lexer": "ipython3",
   "version": "3.11.0"
  }
 },
 "nbformat": 4,
 "nbformat_minor": 5
}
