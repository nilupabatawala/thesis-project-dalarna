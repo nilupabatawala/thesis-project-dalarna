{
 "cells": [
  {
   "cell_type": "code",
   "execution_count": 3,
   "metadata": {},
   "outputs": [
    {
     "name": "stdout",
     "output_type": "stream",
     "text": [
      "Defaulting to user installation because normal site-packages is not writeable\n",
      "Requirement already satisfied: PyMuPDF in c:\\users\\dell\\appdata\\roaming\\python\\python39\\site-packages (1.21.1)\n"
     ]
    },
    {
     "name": "stderr",
     "output_type": "stream",
     "text": [
      "\n",
      "[notice] A new release of pip is available: 23.0.1 -> 23.2.1\n",
      "[notice] To update, run: python.exe -m pip install --upgrade pip\n"
     ]
    }
   ],
   "source": [
    "!pip install PyMuPDF"
   ]
  },
  {
   "cell_type": "code",
   "execution_count": 4,
   "metadata": {},
   "outputs": [
    {
     "name": "stdout",
     "output_type": "stream",
     "text": [
      "Defaulting to user installation because normal site-packages is not writeable\n",
      "Requirement already satisfied: pytesseract in c:\\users\\dell\\appdata\\roaming\\python\\python39\\site-packages (0.3.10)\n",
      "Requirement already satisfied: Pillow>=8.0.0 in c:\\programdata\\anaconda3\\lib\\site-packages (from pytesseract) (9.2.0)\n",
      "Requirement already satisfied: packaging>=21.3 in c:\\programdata\\anaconda3\\lib\\site-packages (from pytesseract) (21.3)\n",
      "Requirement already satisfied: pyparsing!=3.0.5,>=2.0.2 in c:\\programdata\\anaconda3\\lib\\site-packages (from packaging>=21.3->pytesseract) (3.0.9)\n"
     ]
    },
    {
     "name": "stderr",
     "output_type": "stream",
     "text": [
      "\n",
      "[notice] A new release of pip is available: 23.0.1 -> 23.2.1\n",
      "[notice] To update, run: python.exe -m pip install --upgrade pip\n"
     ]
    }
   ],
   "source": [
    "!pip install pytesseract\n",
    "# https://codetoprosper.com/tesseract-ocr-for-windows"
   ]
  },
  {
   "cell_type": "code",
   "execution_count": 4,
   "metadata": {},
   "outputs": [
    {
     "name": "stdout",
     "output_type": "stream",
     "text": [
      "Defaulting to user installation because normal site-packages is not writeable\n",
      "Requirement already satisfied: pandas in c:\\programdata\\anaconda3\\lib\\site-packages (1.4.4)\n",
      "Requirement already satisfied: numpy>=1.18.5 in c:\\programdata\\anaconda3\\lib\\site-packages (from pandas) (1.21.5)\n",
      "Requirement already satisfied: pytz>=2020.1 in c:\\programdata\\anaconda3\\lib\\site-packages (from pandas) (2022.1)\n",
      "Requirement already satisfied: python-dateutil>=2.8.1 in c:\\programdata\\anaconda3\\lib\\site-packages (from pandas) (2.8.2)\n",
      "Requirement already satisfied: six>=1.5 in c:\\programdata\\anaconda3\\lib\\site-packages (from python-dateutil>=2.8.1->pandas) (1.16.0)\n"
     ]
    },
    {
     "name": "stderr",
     "output_type": "stream",
     "text": [
      "\n",
      "[notice] A new release of pip is available: 23.0.1 -> 23.2.1\n",
      "[notice] To update, run: python.exe -m pip install --upgrade pip\n"
     ]
    }
   ],
   "source": [
    "!pip install pandas"
   ]
  },
  {
   "cell_type": "code",
   "execution_count": 31,
   "metadata": {},
   "outputs": [],
   "source": [
    "import os\n",
    "import fitz\n",
    "import pytesseract\n",
    "import pandas as pd\n",
    "from PIL import Image\n",
    "import io\n",
    "import cv2\n",
    "import numpy as np"
   ]
  },
  {
   "cell_type": "code",
   "execution_count": 53,
   "metadata": {},
   "outputs": [],
   "source": [
    "def extract_images_and_text(pdf_path, output_folder, text_window=100):\n",
    "    # Create an empty list to store image and text information\n",
    "    image_text_info_list = []\n",
    "\n",
    "    # Open the PDF file\n",
    "    pdf_document = fitz.open(pdf_path)\n",
    "    \n",
    "    \n",
    "\n",
    "    # Set up pytesseract\n",
    "    pytesseract.pytesseract.tesseract_cmd = r'C:\\Tesseract-OCR\\tesseract.exe'  # Change to your Tesseract executable path\n",
    "\n",
    "    for page_number, page in enumerate(pdf_document):\n",
    "        # Get all the images on the current page\n",
    "        images = page.get_images(full=True)\n",
    "        on_of_images = len(images)\n",
    "        \n",
    "        if (on_of_images <= 10) :\n",
    "            for img_index, img in enumerate(images):\n",
    "            xref = img[0]\n",
    "            base_image = pdf_document.extract_image(xref)\n",
    "            image_data = base_image[\"image\"]\n",
    "\n",
    "            # Determine the file extension based on the image type\n",
    "            if base_image[\"ext\"] == \".jpg\":\n",
    "                image_ext = \"jpg\"\n",
    "            elif base_image[\"ext\"] == \".png\":\n",
    "                image_ext = \"png\"\n",
    "            else:\n",
    "                image_ext = \"png\"\n",
    "\n",
    "            # Create a dictionary with image information\n",
    "            image_info = {\n",
    "                \"File Name\": os.path.basename(pdf_path),\n",
    "                \"Image Name\": f\"page_{page_number + 1}_image_{img_index + 1}.{image_ext}\",\n",
    "                \"Page Number\": page_number + 1\n",
    "            }\n",
    "\n",
    "            # Extract text content before and after the image\n",
    "            text_before = page.get_text(\"text\", clip=(0, 0, img[2], img[3]-text_window))\n",
    "            text_after = page.get_text(\"text\", clip=(0, img[3], img[2], img[3]+text_window))\n",
    "\n",
    "            # Convert image data to a format that Tesseract supports\n",
    "            image_pil = Image.open(io.BytesIO(image_data))\n",
    "            image_data = image_pil.convert(\"RGB\")\n",
    "\n",
    "            # Use OCR to extract text inside the image\n",
    "            image_text = pytesseract.image_to_string(image_data)\n",
    "\n",
    "            image_info[\"Text Before\"] = text_before.strip()\n",
    "            image_info[\"Text After\"] = text_after.strip()\n",
    "            image_info[\"Text Inside Image\"] = image_text.strip()\n",
    "            \n",
    "\n",
    "            # Create the output folder if it doesn't exist\n",
    "            os.makedirs(output_folder, exist_ok=True)\n",
    "\n",
    "            # Save the image to the output folder\n",
    "            image_filename = os.path.join(output_folder, image_info[\"Image Name\"])\n",
    "            image_pil.save(image_filename, format=image_ext)\n",
    "            #with open(image_filename, \"wb\") as image_file:\n",
    "            #    image_file.write(image_pil.tobytes())\n",
    "            \n",
    "            # Append the image and text information to the list\n",
    "            image_text_info_list.append(image_info)\n",
    "        \n",
    "\n",
    "    pdf_document.close()\n",
    "\n",
    "    # Create a Pandas DataFrame from the image and text information list\n",
    "    df = pd.DataFrame(image_text_info_list)\n",
    "    return df"
   ]
  },
  {
   "cell_type": "code",
   "execution_count": 54,
   "metadata": {},
   "outputs": [
    {
     "name": "stdout",
     "output_type": "stream",
     "text": [
      "['3M_2016.pdf', 'AaltoUniversity_2015.pdf']\n"
     ]
    }
   ],
   "source": [
    "pdf_files = os.listdir(\"C:/Thesis/CSR Reports/\")\n",
    "print(pdf_files)"
   ]
  },
  {
   "cell_type": "code",
   "execution_count": 56,
   "metadata": {},
   "outputs": [],
   "source": [
    "# Reading all the files and extract images \n",
    "count = 0\n",
    "\n",
    "damage_list = []\n",
    "for pdf in pdf_files:\n",
    "    count = count+1\n",
    "    #pdffile = \"CSR Reports/\"+pdf\n",
    "    \n",
    "    pdf_file = \"C:/Thesis/CSR Reports/\" + pdf  # PDF file path\n",
    "    output_dir = \"C:/Thesis/Images/\" + pdf[:-4]  #\n",
    "    #output_dir = \"1time_2011\"  # Replace with the output folder path\n",
    "    \n",
    "    try:\n",
    "        df = extract_images_and_text(pdf_file, output_dir)\n",
    "        if count == 1:\n",
    "            tatal_df = df\n",
    "        else:\n",
    "            tatal_df = tatal_df.append(df,ignore_index=True) \n",
    "      \n",
    "    except:\n",
    "        damage_list.append(pdf)\n",
    "        "
   ]
  },
  {
   "cell_type": "code",
   "execution_count": 48,
   "metadata": {},
   "outputs": [
    {
     "name": "stdout",
     "output_type": "stream",
     "text": [
      "          File Name             Image Name  Page Number  \\\n",
      "0    1time_2011.pdf     page_2_image_1.png            2   \n",
      "1    1time_2011.pdf     page_2_image_2.png            2   \n",
      "2    1time_2011.pdf     page_3_image_1.png            3   \n",
      "3    1time_2011.pdf     page_3_image_2.png            3   \n",
      "4    1time_2011.pdf     page_3_image_3.png            3   \n",
      "..              ...                    ...          ...   \n",
      "164     3M_2016.pdf  page_171_image_10.png          171   \n",
      "165     3M_2016.pdf  page_171_image_11.png          171   \n",
      "166     3M_2016.pdf  page_171_image_12.png          171   \n",
      "167     3M_2016.pdf  page_171_image_13.png          171   \n",
      "168     3M_2016.pdf  page_171_image_14.png          171   \n",
      "\n",
      "                                           Text Before  \\\n",
      "0    | highlights 1 | 5-year review 2 | directorate...   \n",
      "1    | highlights 1 | 5-year review 2 | directorate...   \n",
      "2                                                        \n",
      "3                                                        \n",
      "4                                                        \n",
      "..                                                 ...   \n",
      "164                                                      \n",
      "165   C\\nS\\nW\\nF\\n S\\nR\\n \\nStat\\nBure\\nHea\\nprov...   \n",
      "166                                                      \n",
      "167                                                      \n",
      "168                                                      \n",
      "\n",
      "                       Text After Text Inside Image  \n",
      "0                                                    \n",
      "1                                                    \n",
      "2                                                    \n",
      "3                                                    \n",
      "4                                                    \n",
      "..                            ...               ...  \n",
      "164                                                  \n",
      "165  Prac\\nSust\\n \\n \\nctic\\ntain                    \n",
      "166                                                  \n",
      "167                                                  \n",
      "168                                           [ Ba.  \n",
      "\n",
      "[169 rows x 6 columns]\n"
     ]
    }
   ],
   "source": [
    "print(tatal_df)"
   ]
  },
  {
   "cell_type": "code",
   "execution_count": 7,
   "metadata": {},
   "outputs": [],
   "source": []
  },
  {
   "cell_type": "code",
   "execution_count": 8,
   "metadata": {},
   "outputs": [
    {
     "name": "stdout",
     "output_type": "stream",
     "text": [
      "         File Name           Image Name  Page Number  \\\n",
      "0   1time_2011.pdf   page_2_image_1.png            2   \n",
      "1   1time_2011.pdf   page_2_image_2.png            2   \n",
      "2   1time_2011.pdf   page_3_image_1.png            3   \n",
      "3   1time_2011.pdf   page_3_image_2.png            3   \n",
      "4   1time_2011.pdf   page_3_image_3.png            3   \n",
      "5   1time_2011.pdf   page_3_image_4.png            3   \n",
      "6   1time_2011.pdf   page_3_image_5.png            3   \n",
      "7   1time_2011.pdf   page_3_image_6.png            3   \n",
      "8   1time_2011.pdf   page_3_image_7.png            3   \n",
      "9   1time_2011.pdf   page_3_image_8.png            3   \n",
      "10  1time_2011.pdf   page_3_image_9.png            3   \n",
      "11  1time_2011.pdf  page_3_image_10.png            3   \n",
      "12  1time_2011.pdf  page_3_image_11.png            3   \n",
      "13  1time_2011.pdf  page_3_image_12.png            3   \n",
      "14  1time_2011.pdf  page_3_image_13.png            3   \n",
      "15  1time_2011.pdf  page_3_image_14.png            3   \n",
      "16  1time_2011.pdf  page_3_image_15.png            3   \n",
      "17  1time_2011.pdf  page_3_image_16.png            3   \n",
      "18  1time_2011.pdf  page_3_image_17.png            3   \n",
      "19  1time_2011.pdf  page_3_image_18.png            3   \n",
      "20  1time_2011.pdf   page_5_image_1.png            5   \n",
      "21  1time_2011.pdf   page_5_image_2.png            5   \n",
      "22  1time_2011.pdf   page_5_image_3.png            5   \n",
      "23  1time_2011.pdf   page_5_image_4.png            5   \n",
      "24  1time_2011.pdf   page_5_image_5.png            5   \n",
      "25  1time_2011.pdf   page_5_image_6.png            5   \n",
      "26  1time_2011.pdf   page_5_image_7.png            5   \n",
      "27  1time_2011.pdf   page_5_image_8.png            5   \n",
      "28  1time_2011.pdf   page_7_image_1.png            7   \n",
      "29  1time_2011.pdf   page_7_image_2.png            7   \n",
      "30  1time_2011.pdf   page_8_image_1.png            8   \n",
      "31  1time_2011.pdf   page_8_image_2.png            8   \n",
      "32  1time_2011.pdf  page_14_image_1.png           14   \n",
      "33  1time_2011.pdf  page_15_image_1.png           15   \n",
      "34  1time_2011.pdf  page_15_image_2.png           15   \n",
      "35  1time_2011.pdf  page_16_image_1.png           16   \n",
      "36  1time_2011.pdf  page_16_image_2.png           16   \n",
      "37  1time_2011.pdf  page_17_image_1.png           17   \n",
      "38  1time_2011.pdf  page_17_image_2.png           17   \n",
      "39  1time_2011.pdf  page_18_image_1.png           18   \n",
      "40  1time_2011.pdf  page_18_image_2.png           18   \n",
      "41  1time_2011.pdf  page_18_image_3.png           18   \n",
      "42  1time_2011.pdf  page_19_image_1.png           19   \n",
      "43  1time_2011.pdf  page_66_image_1.png           66   \n",
      "\n",
      "                                          Text Before  \\\n",
      "0   | highlights 1 | 5-year review 2 | directorate...   \n",
      "1   | highlights 1 | 5-year review 2 | directorate...   \n",
      "2                                                       \n",
      "3                                                       \n",
      "4                                                       \n",
      "5   // Page 1 // \\n4,6%\\nREVENUE GROWTH\\n10\\n20\\n3...   \n",
      "6   // Page 1 // \\n4,6%\\nREVENUE GROWTH\\n10\\n20\\n3...   \n",
      "7   // Page 1 // \\n4,6%\\nREVENUE GROWTH\\n10\\n20\\n3...   \n",
      "8   // Page 1 // \\n4,6%\\nREVENUE GROWTH\\n10\\n20\\n3...   \n",
      "9   // Page 1 // \\n4,6%\\nREVENUE GROWTH\\n10\\n20\\n3...   \n",
      "10  // Page 1 // \\n4,6%\\nREVENUE GROWTH\\n10\\n20\\n3...   \n",
      "11                                                      \n",
      "12  // Page 1 // \\n4,6%\\nREVENUE GROWTH\\n10\\n20\\n3...   \n",
      "13  // Page 1 // \\n4,6%\\nREVENUE GROWTH\\n10\\n20\\n3...   \n",
      "14  // Page 1 // \\n4,6%\\nREVENUE GROWTH\\n10\\n20\\n3...   \n",
      "15  4,6%\\nREVENUE GROWTH\\n10\\n20\\n30\\n40\\n50\\n60\\n...   \n",
      "16                                                      \n",
      "17                                                      \n",
      "18  // Page 1 // \\n4,6%\\nREVENUE GROWTH\\n10\\n20\\n3...   \n",
      "19  // Page 1 // \\n4,6%\\nREVENUE GROWTH\\n10\\n20\\n3...   \n",
      "20                                                      \n",
      "21                                                      \n",
      "22                                                      \n",
      "23                                                      \n",
      "24                                                      \n",
      "25                                                      \n",
      "26                                                      \n",
      "27                                                      \n",
      "28                                                      \n",
      "29                                                      \n",
      "30                            Page 6 \\n1time holdings   \n",
      "31                            Page 6 \\n1time holdings   \n",
      "32                                                      \n",
      "33                                                      \n",
      "34                                                      \n",
      "35                                                      \n",
      "36                                                      \n",
      "37  for the year ended \\n31 December 2010  \\nfinan...   \n",
      "38  for the year ended \\n31 December 2010  \\nfinan...   \n",
      "39                                                      \n",
      "40                                                      \n",
      "41                                                      \n",
      "42                                                      \n",
      "43                                                      \n",
      "\n",
      "                                           Text After Text Inside Image  \n",
      "0                                                                        \n",
      "1                                                                        \n",
      "2                                                                        \n",
      "3                                                                        \n",
      "4                                                                        \n",
      "5                                                                        \n",
      "6                                                                        \n",
      "7                                                                        \n",
      "8                                                                        \n",
      "9                                                                        \n",
      "10                                                                       \n",
      "11                               4,6%\\n20\\n30\\n80\\n70        Se cameras  \n",
      "12                                                                       \n",
      "13                                                                       \n",
      "14                                                                       \n",
      "15                 R145 MIL\\n104 106\\n10\\n1\\nMIL\\n108                    \n",
      "16                                                                       \n",
      "17                                                                       \n",
      "18                                                                       \n",
      "19                                                                       \n",
      "20                                                                  fi)  \n",
      "21                                                                       \n",
      "22                                                                  jt)  \n",
      "23                                                              ima\\nOs  \n",
      "24                                                                       \n",
      "25                                                                       \n",
      "26                                                                   cE  \n",
      "27                                                                       \n",
      "28                                                                       \n",
      "29                                                                       \n",
      "30                                                                       \n",
      "31                                                                       \n",
      "32                           Page 12 \\n1time holdings                    \n",
      "33                                                                       \n",
      "34                                                                       \n",
      "35                                                                       \n",
      "36                                                                       \n",
      "37                                                                       \n",
      "38                                                                       \n",
      "39  directors’ \\nThe directors are required\\nthe C...                    \n",
      "40  directors’ re\\nThe directors are required in t...                    \n",
      "41  The directors are required in te\\nthe Companie...                    \n",
      "42  independen\\nTO The MeMberS Of 1TiMe\\nhOldinGS ...            SAB S|  \n",
      "43  market conditions) in their opin\\nwarrant it.\\...                    \n"
     ]
    }
   ],
   "source": [
    "#df = extract_images_and_text(pdf_file, output_dir)\n",
    "\n",
    "# Print the DataFrame (optional)\n"
   ]
  },
  {
   "cell_type": "code",
   "execution_count": 28,
   "metadata": {},
   "outputs": [
    {
     "data": {
      "text/plain": [
       "Index(['File Name', 'Image Name', 'Page Number', 'Text Before', 'Text After',\n",
       "       'Text Inside Image'],\n",
       "      dtype='object')"
      ]
     },
     "execution_count": 28,
     "metadata": {},
     "output_type": "execute_result"
    }
   ],
   "source": [
    "tatal_df.columns"
   ]
  },
  {
   "cell_type": "code",
   "execution_count": 43,
   "metadata": {},
   "outputs": [
    {
     "data": {
      "text/html": [
       "<div>\n",
       "<style scoped>\n",
       "    .dataframe tbody tr th:only-of-type {\n",
       "        vertical-align: middle;\n",
       "    }\n",
       "\n",
       "    .dataframe tbody tr th {\n",
       "        vertical-align: top;\n",
       "    }\n",
       "\n",
       "    .dataframe thead th {\n",
       "        text-align: right;\n",
       "    }\n",
       "</style>\n",
       "<table border=\"1\" class=\"dataframe\">\n",
       "  <thead>\n",
       "    <tr style=\"text-align: right;\">\n",
       "      <th></th>\n",
       "      <th>File Name</th>\n",
       "      <th>Image Name</th>\n",
       "      <th>Page Number</th>\n",
       "      <th>Text Before</th>\n",
       "      <th>Text After</th>\n",
       "      <th>Text Inside Image</th>\n",
       "    </tr>\n",
       "  </thead>\n",
       "  <tbody>\n",
       "    <tr>\n",
       "      <th>0</th>\n",
       "      <td>1time_2011.pdf</td>\n",
       "      <td>page_2_image_1.png</td>\n",
       "      <td>2</td>\n",
       "      <td>| highlights 1 | 5-year review 2 | directorate...</td>\n",
       "      <td></td>\n",
       "      <td></td>\n",
       "    </tr>\n",
       "    <tr>\n",
       "      <th>1</th>\n",
       "      <td>1time_2011.pdf</td>\n",
       "      <td>page_2_image_2.png</td>\n",
       "      <td>2</td>\n",
       "      <td>| highlights 1 | 5-year review 2 | directorate...</td>\n",
       "      <td></td>\n",
       "      <td></td>\n",
       "    </tr>\n",
       "    <tr>\n",
       "      <th>2</th>\n",
       "      <td>1time_2011.pdf</td>\n",
       "      <td>page_3_image_1.png</td>\n",
       "      <td>3</td>\n",
       "      <td></td>\n",
       "      <td></td>\n",
       "      <td></td>\n",
       "    </tr>\n",
       "    <tr>\n",
       "      <th>3</th>\n",
       "      <td>1time_2011.pdf</td>\n",
       "      <td>page_3_image_2.png</td>\n",
       "      <td>3</td>\n",
       "      <td></td>\n",
       "      <td></td>\n",
       "      <td></td>\n",
       "    </tr>\n",
       "    <tr>\n",
       "      <th>4</th>\n",
       "      <td>1time_2011.pdf</td>\n",
       "      <td>page_3_image_3.png</td>\n",
       "      <td>3</td>\n",
       "      <td></td>\n",
       "      <td></td>\n",
       "      <td></td>\n",
       "    </tr>\n",
       "  </tbody>\n",
       "</table>\n",
       "</div>"
      ],
      "text/plain": [
       "        File Name          Image Name  Page Number  \\\n",
       "0  1time_2011.pdf  page_2_image_1.png            2   \n",
       "1  1time_2011.pdf  page_2_image_2.png            2   \n",
       "2  1time_2011.pdf  page_3_image_1.png            3   \n",
       "3  1time_2011.pdf  page_3_image_2.png            3   \n",
       "4  1time_2011.pdf  page_3_image_3.png            3   \n",
       "\n",
       "                                         Text Before Text After  \\\n",
       "0  | highlights 1 | 5-year review 2 | directorate...              \n",
       "1  | highlights 1 | 5-year review 2 | directorate...              \n",
       "2                                                                 \n",
       "3                                                                 \n",
       "4                                                                 \n",
       "\n",
       "  Text Inside Image  \n",
       "0                    \n",
       "1                    \n",
       "2                    \n",
       "3                    \n",
       "4                    "
      ]
     },
     "execution_count": 43,
     "metadata": {},
     "output_type": "execute_result"
    }
   ],
   "source": [
    "tatal_df.head()"
   ]
  },
  {
   "cell_type": "code",
   "execution_count": 49,
   "metadata": {},
   "outputs": [],
   "source": [
    "tatal_df.to_csv('SaveFiles/ExtractedData.csv', index=False)"
   ]
  },
  {
   "cell_type": "code",
   "execution_count": null,
   "metadata": {},
   "outputs": [],
   "source": []
  }
 ],
 "metadata": {
  "kernelspec": {
   "display_name": "Python 3 (ipykernel)",
   "language": "python",
   "name": "python3"
  },
  "language_info": {
   "codemirror_mode": {
    "name": "ipython",
    "version": 3
   },
   "file_extension": ".py",
   "mimetype": "text/x-python",
   "name": "python",
   "nbconvert_exporter": "python",
   "pygments_lexer": "ipython3",
   "version": "3.9.13"
  }
 },
 "nbformat": 4,
 "nbformat_minor": 1
}
